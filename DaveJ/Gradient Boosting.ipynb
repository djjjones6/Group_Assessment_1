{
 "cells": [
  {
   "cell_type": "markdown",
   "metadata": {},
   "source": [
    "## Gradient Boosting"
   ]
  },
  {
   "cell_type": "code",
   "execution_count": 1,
   "metadata": {},
   "outputs": [],
   "source": [
    "## REQUIRED LIBRARIES\n",
    "# For data wrangling \n",
    "import numpy as np\n",
    "import pandas as pd\n",
    "\n",
    "\n",
    "# For visualization\n",
    "import matplotlib.pyplot as plt\n",
    "%matplotlib inline\n",
    "import seaborn as sns\n",
    "pd.options.display.max_rows = None\n",
    "pd.options.display.max_columns = None"
   ]
  },
  {
   "cell_type": "code",
   "execution_count": 2,
   "metadata": {},
   "outputs": [],
   "source": [
    "from sklearn.ensemble import GradientBoostingClassifier\n",
    "from sklearn.metrics import accuracy_score, confusion_matrix, classification_report, roc_curve, roc_auc_score, balanced_accuracy_score"
   ]
  },
  {
   "cell_type": "code",
   "execution_count": 3,
   "metadata": {},
   "outputs": [],
   "source": [
    "import pickle\n",
    "\n",
    "#Loading the training and test splits from the pickle file\n",
    "with open('../data/train_test_data.pickle', 'rb') as file:\n",
    "    train_test_split = pickle.load(file)\n",
    "\n",
    "X_train_raw = train_test_split['X_train_raw']\n",
    "y_train_raw = train_test_split['y_train_raw']\n",
    "X_test_raw = train_test_split['X_test_raw']\n",
    "y_test_raw = train_test_split['y_test_raw']"
   ]
  },
  {
   "cell_type": "code",
   "execution_count": 4,
   "metadata": {},
   "outputs": [],
   "source": [
    "with open('../data/train_splits.pickle', 'rb') as file:\n",
    "    split_data = pickle.load(file)"
   ]
  },
  {
   "cell_type": "code",
   "execution_count": 6,
   "metadata": {},
   "outputs": [
    {
     "data": {
      "text/plain": [
       "dict_keys(['random', 'stratified', 'udersample', 'oversample'])"
      ]
     },
     "execution_count": 6,
     "metadata": {},
     "output_type": "execute_result"
    }
   ],
   "source": [
    "split_data.keys()"
   ]
  },
  {
   "cell_type": "code",
   "execution_count": 23,
   "metadata": {},
   "outputs": [
    {
     "data": {
      "image/png": "[encoded data removed]",
      "text/plain": [
       "<Figure size 1200x1000 with 4 Axes>"
      ]
     },
     "metadata": {},
     "output_type": "display_data"
    },
    {
     "data": {
      "text/plain": [
       "<Figure size 800x600 with 0 Axes>"
      ]
     },
     "metadata": {},
     "output_type": "display_data"
    },
    {
     "data": {
      "text/plain": [
       "<Figure size 800x600 with 0 Axes>"
      ]
     },
     "metadata": {},
     "output_type": "display_data"
    },
    {
     "name": "stdout",
     "output_type": "stream",
     "text": [
      "random - Validation Accuracy: 0.8100, Test Accuracy: 0.8150\n",
      "random - Test Precision (Class 1): 1.0000\n",
      "Test Recall (Class 1): 0.0898\n",
      "Test F1-Score (Class 1): 0.1648\n",
      "False Positives: 5, False Negatives: 365\n",
      "stratified - Validation Accuracy: 0.8125, Test Accuracy: 0.8135\n",
      "stratified - Test Precision (Class 1): 0.9643\n",
      "Test Recall (Class 1): 0.0828\n",
      "Test F1-Score (Class 1): 0.1525\n",
      "False Positives: 2, False Negatives: 371\n",
      "udersample - Validation Accuracy: 0.7419, Test Accuracy: 0.7010\n",
      "udersample - Test Precision (Class 1): 0.4278\n",
      "Test Recall (Class 1): 0.7006\n",
      "Test F1-Score (Class 1): 0.5312\n",
      "False Positives: 507, False Negatives: 91\n",
      "oversample - Validation Accuracy: 0.7288, Test Accuracy: 0.7070\n",
      "oversample - Test Precision (Class 1): 0.4104\n",
      "Test Recall (Class 1): 0.6856\n",
      "Test F1-Score (Class 1): 0.5135\n",
      "False Positives: 484, False Negatives: 102\n"
     ]
    }
   ],
   "source": [
    "#We now need to create our Gradient Boosting Classification model\n",
    "\n",
    "gb_model = GradientBoostingClassifier(n_estimators=20, learning_rate=0.1, max_features=2, max_depth=2, random_state=0)\n",
    "\n",
    "#Create somewhere to store performance\n",
    "performance ={}\n",
    "\n",
    "#Creating 2x2 grid for confusion matrices\n",
    "fig, axes = plt.subplots(2, 2, figsize=(12, 10))\n",
    "axes = axes.flatten()\n",
    "plt.figure(figsize=(8,6))\n",
    "\n",
    "#ROC Curve Figure\n",
    "plt.figure(figsize=(8,6))\n",
    "\n",
    "#Fit model for each split\n",
    "for idx, split in enumerate(split_data):\n",
    "    X_train, X_val, y_train, y_val =split_data[split]\n",
    "    \n",
    "    #Train model\n",
    "    gb_model.fit(X_train, y_train)\n",
    "    \n",
    "    #Predict on validation set\n",
    "    y_val_pred = gb_model.predict(X_val)\n",
    "    val_accuracy = accuracy_score(y_val, y_val_pred)\n",
    "\n",
    "    #Predict on unseen test set\n",
    "    y_test_pred = gb_model.predict(X_test_raw)\n",
    "    test_accuracy = accuracy_score(y_test_raw, y_test_pred)\n",
    "\n",
    "    #Get general classification report\n",
    "    test_report = classification_report(y_val, y_val_pred, output_dict = True)\n",
    "\n",
    "    #Plot confusion matrix for test set\n",
    "    conf_matrix = confusion_matrix(y_test_raw, y_test_pred)\n",
    "    tn, fp, fn, tp = conf_matrix.ravel()\n",
    "\n",
    "    \n",
    "    #Calculate balanced accuracy\n",
    "    balanced_acc = balanced_accuracy_score(y_val, y_val_pred)\n",
    "\n",
    "    #Precision, recall, and F1-score for class 1\n",
    "    precision = test_report['1']['precision']\n",
    "    recall = test_report['1']['recall']\n",
    "    f1_score = test_report['1']['f1-score']\n",
    "\n",
    "    #Define performance metrics\n",
    "    performance[split] = {\n",
    "        'val_accuracy': val_accuracy,\n",
    "        'test_accuracy': test_accuracy,\n",
    "         'test_precision_1': precision,\n",
    "        'test_recall_1': recall,\n",
    "        'test_f1_score_1': f1_score,\n",
    "        'false_positives': fp,\n",
    "        'false_negatives': fn,\n",
    "        'balanced_accuracy': balanced_acc\n",
    "    }\n",
    "\n",
    "#Show the plots\n",
    "plt.show()  \n",
    "\n",
    "# Output performance metrics\n",
    "for split, perf in performance.items():\n",
    "    print(f\"{split} - Validation Accuracy: {perf['val_accuracy']:.4f}, Test Accuracy: {perf['test_accuracy']:.4f}\")\n",
    "    print(f\"{split} - Test Precision (Class 1): {perf['test_precision_1']:.4f}\")\n",
    "    print(f\"Test Recall (Class 1): {perf['test_recall_1']:.4f}\")\n",
    "    print(f\"Test F1-Score (Class 1): {perf['test_f1_score_1']:.4f}\")\n",
    "    print(f\"False Positives: {perf['false_positives']}, False Negatives: {perf['false_negatives']}\")"
   ]
  }
 ],
 "metadata": {
  "kernelspec": {
   "display_name": "base",
   "language": "python",
   "name": "python3"
  },
  "language_info": {
   "codemirror_mode": {
    "name": "ipython",
    "version": 3
   },
   "file_extension": ".py",
   "mimetype": "text/x-python",
   "name": "python",
   "nbconvert_exporter": "python",
   "pygments_lexer": "ipython3",
   "version": "3.12.4"
  }
 },
 "nbformat": 4,
 "nbformat_minor": 2
}
