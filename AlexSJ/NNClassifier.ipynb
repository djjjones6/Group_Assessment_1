{
 "cells": [
  {
   "cell_type": "code",
   "execution_count": 1,
   "metadata": {},
   "outputs": [],
   "source": [
    "import numpy as np\n",
    "import pandas as pd\n",
    "import matplotlib.pyplot as plt\n",
    "import seaborn as sns"
   ]
  },
  {
   "cell_type": "code",
   "execution_count": 2,
   "metadata": {},
   "outputs": [],
   "source": [
    "import pickle\n",
    "\n",
    "# Load the training and testing split from the pickle file\n",
    "with open('random_80_20.pickle', 'rb') as file:\n",
    "    train_test_split = pickle.load(file)\n",
    "\n",
    "# Assuming the pickle file contains a dictionary with 'X_train', 'X_test', 'y_train', 'y_test'\n",
    "X_train = train_test_split['X_train']\n",
    "X_test = train_test_split['X_test']\n",
    "y_train = train_test_split['y_train']\n",
    "y_test = train_test_split['y_test']"
   ]
  },
  {
   "cell_type": "markdown",
   "metadata": {},
   "source": []
  },
  {
   "cell_type": "code",
   "execution_count": 27,
   "metadata": {},
   "outputs": [
    {
     "name": "stdout",
     "output_type": "stream",
     "text": [
      "Accuracy: 0.86\n"
     ]
    }
   ],
   "source": [
    "from sklearn.neural_network import MLPClassifier\n",
    "from sklearn.metrics import accuracy_score\n",
    "from sklearn.ensemble import VotingClassifier\n",
    "# Initialize the MLPClassifier\n",
    "mlp1 = MLPClassifier(hidden_layer_sizes=(20,10),n_iter_no_change=15,batch_size=10,activation=\"logistic\",max_iter=1000)\n",
    "mlp2 = MLPClassifier(hidden_layer_sizes=(30,20),n_iter_no_change=15,batch_size=10,activation=\"logistic\",max_iter=1000)\n",
    "mlp3 = MLPClassifier(hidden_layer_sizes=(25,15),n_iter_no_change=15,batch_size=10,activation=\"logistic\",max_iter=1000)\n",
    "\n",
    "ensemble = VotingClassifier(estimators=[('mlp1', mlp1), ('mlp2', mlp2), ('mlp3', mlp3)], voting='soft')\n",
    "ensemble.fit(X_train, y_train)\n",
    "y_pred = ensemble.predict(X_test)\n",
    "# Evaluate the classifier\n",
    "accuracy = accuracy_score(y_test, y_pred)\n",
    "print(f\"Accuracy: {accuracy:.2f}\")"
   ]
  },
  {
   "cell_type": "code",
   "execution_count": null,
   "metadata": {},
   "outputs": [],
   "source": []
  }
 ],
 "metadata": {
  "kernelspec": {
   "display_name": "GroupAssignment1",
   "language": "python",
   "name": "python3"
  },
  "language_info": {
   "codemirror_mode": {
    "name": "ipython",
    "version": 3
   },
   "file_extension": ".py",
   "mimetype": "text/x-python",
   "name": "python",
   "nbconvert_exporter": "python",
   "pygments_lexer": "ipython3",
   "version": "3.12.5"
  }
 },
 "nbformat": 4,
 "nbformat_minor": 2
}
